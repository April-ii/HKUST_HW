{
 "cells": [
  {
   "cell_type": "code",
   "execution_count": 42,
   "id": "95d344f4",
   "metadata": {},
   "outputs": [],
   "source": [
    "import pandas as pd\n",
    "import numpy as np\n",
    "from scipy.optimize import minimize"
   ]
  },
  {
   "cell_type": "code",
   "execution_count": 43,
   "id": "65157b0f",
   "metadata": {},
   "outputs": [],
   "source": [
    "# Load your data\n",
    "btc_data = pd.read_csv('csv\\\\BTCUSD_1m_btc_usd_60.csv')\n",
    "eth_data = pd.read_csv('csv\\\\ETHUSD_1m_eth_usd_60.csv')\n",
    "ltc_data = pd.read_csv('csv\\\\LTCUSD_1m_ltc_usd_60.csv')\n",
    "xrp_data = pd.read_csv('csv\\\\XRPUSD_1m_xrp_usd_60.csv')\n",
    "\n",
    "# Convert the 'time' column to datetime and set as index\n",
    "btc_data['time'] = pd.to_datetime(btc_data['time'])\n",
    "eth_data['time'] = pd.to_datetime(eth_data['time'])\n",
    "ltc_data['time'] = pd.to_datetime(ltc_data['time'])\n",
    "xrp_data['time'] = pd.to_datetime(xrp_data['time'])\n",
    "\n",
    "btc_data.set_index('time', inplace=True)\n",
    "eth_data.set_index('time', inplace=True)\n",
    "ltc_data.set_index('time', inplace=True)\n",
    "xrp_data.set_index('time', inplace=True)\n",
    "\n",
    "# Training period\n",
    "start_date = '2021-09-14 00:00:00'\n",
    "end_date = '2023-04-19 00:00:00'\n",
    "\n",
    "# Filter data for the training period\n",
    "btc_train = btc_data.loc[start_date:end_date]\n",
    "eth_train = eth_data.loc[start_date:end_date]\n",
    "ltc_train = ltc_data.loc[start_date:end_date]\n",
    "xrp_train = xrp_data.loc[start_date:end_date]\n"
   ]
  },
  {
   "cell_type": "code",
   "execution_count": 12,
   "id": "966fc67d",
   "metadata": {},
   "outputs": [
    {
     "name": "stdout",
     "output_type": "stream",
     "text": [
      "Optimal Weights: [0.50477571 0.3363203  0.1448375  0.01406649]\n"
     ]
    }
   ],
   "source": [
    "# Calculate returns for the training period\n",
    "btc_returns_train = btc_train['Close'].pct_change().dropna()\n",
    "eth_returns_train = eth_train['Close'].pct_change().dropna()\n",
    "ltc_returns_train = ltc_train['Close'].pct_change().dropna()\n",
    "xrp_returns_train = xrp_train['Close'].pct_change().dropna()\n",
    "\n",
    "# Combine returns into a single DataFrame\n",
    "train_returns = pd.concat([btc_returns_train, eth_returns_train, ltc_returns_train, xrp_returns_train], axis=1)\n",
    "train_returns.columns = ['BTC', 'ETH', 'LTC', 'XRP']\n",
    "\n",
    "# Calculate the historical volatility (standard deviation) of each asset\n",
    "volatility = train_returns.std()\n",
    "\n",
    "# Define the objective function for risk parity\n",
    "def risk_parity_objective(weights, volatilities):\n",
    "    # Calculate portfolio variance\n",
    "    portfolio_variance = np.dot(weights ** 2, volatilities ** 2)\n",
    "\n",
    "    # Calculate marginal risk contribution of each asset\n",
    "    marginal_risk_contribution = weights * volatilities ** 2 / np.sqrt(portfolio_variance)\n",
    "\n",
    "    # Calculate risk contributions and target risk contribution (equal for all assets)\n",
    "    risk_contributions = marginal_risk_contribution / marginal_risk_contribution.sum()\n",
    "    target_risk_contribution = np.ones(len(weights)) / len(weights)\n",
    "\n",
    "    # Objective function: minimize the sum of squared differences between actual and target risk contributions\n",
    "    return np.sum((risk_contributions - target_risk_contribution) ** 2)\n",
    "\n",
    "# Constraints and bounds for optimization\n",
    "constraints = ({'type': 'eq', 'fun': lambda x: np.sum(x) - 1})\n",
    "bounds = tuple((0, 1) for _ in range(train_returns.shape[1]))\n",
    "\n",
    "# Initial guess (equal weighting)\n",
    "init_guess = [1.0 / train_returns.shape[1]] * train_returns.shape[1]\n",
    "\n",
    "# Optimize portfolio for risk parity\n",
    "optimal_weights_risk_parity = minimize(risk_parity_objective, init_guess, args=(volatility,), method='SLSQP', bounds=bounds, constraints=constraints)\n",
    "\n",
    "print(\"Optimal Weights:\", optimal_weights_risk_parity.x)\n",
    "\n"
   ]
  },
  {
   "cell_type": "code",
   "execution_count": 13,
   "id": "0b627bfc",
   "metadata": {},
   "outputs": [
    {
     "name": "stdout",
     "output_type": "stream",
     "text": [
      "Total Return: -0.08497749939135113\n",
      "Volatility: 0.0006319397963427223\n"
     ]
    }
   ],
   "source": [
    "# Separate data for backtesting (data outside the training period)\n",
    "btc_test = btc_data.loc[end_date:]\n",
    "eth_test = eth_data.loc[end_date:]\n",
    "ltc_test = ltc_data.loc[end_date:]\n",
    "xrp_test = xrp_data.loc[end_date:]\n",
    "\n",
    "# Calculate returns for the test period\n",
    "btc_returns_test = btc_test['Close'].pct_change().dropna()\n",
    "eth_returns_test = eth_test['Close'].pct_change().dropna()\n",
    "ltc_returns_test = ltc_test['Close'].pct_change().dropna()\n",
    "xrp_returns_test = xrp_test['Close'].pct_change().dropna()\n",
    "\n",
    "# Combine test returns into a single DataFrame\n",
    "test_returns = pd.concat([btc_returns_test, eth_returns_test, ltc_returns_test, xrp_returns_test], axis=1)\n",
    "test_returns.columns = ['BTC', 'ETH', 'LTC', 'XRP']\n",
    "\n",
    "# Ensure optimal weights are in a numpy array for calculations\n",
    "optimal_weights_array = np.array(optimal_weights_risk_parity.x)\n",
    "\n",
    "# Calculate the portfolio returns for the test period\n",
    "test_portfolio_returns = test_returns.dot(optimal_weights_array)\n",
    "\n",
    "# You might want to analyze these returns further, e.g., compute total return, volatility, etc.\n",
    "total_return = np.prod(1 + test_portfolio_returns) - 1\n",
    "volatility = test_portfolio_returns.std()\n",
    "\n",
    "print(\"Total Return:\", total_return)\n",
    "print(\"Volatility:\", volatility)\n",
    "\n"
   ]
  },
  {
   "cell_type": "code",
   "execution_count": 40,
   "id": "fb47db2e",
   "metadata": {},
   "outputs": [
    {
     "data": {
      "text/plain": [
       "array([50477.57108862, 33632.03013148, 14483.7496752 ,  1406.64910471])"
      ]
     },
     "execution_count": 40,
     "metadata": {},
     "output_type": "execute_result"
    }
   ],
   "source": [
    "100000*optimal_weights_risk_parity.x"
   ]
  },
  {
   "cell_type": "code",
   "execution_count": 41,
   "id": "c6fdbc13",
   "metadata": {},
   "outputs": [
    {
     "data": {
      "text/plain": [
       "1.0"
      ]
     },
     "execution_count": 41,
     "metadata": {},
     "output_type": "execute_result"
    }
   ],
   "source": [
    "sum(optimal_weights_risk_parity.x)"
   ]
  },
  {
   "cell_type": "code",
   "execution_count": null,
   "id": "92cf1594",
   "metadata": {},
   "outputs": [],
   "source": []
  }
 ],
 "metadata": {
  "kernelspec": {
   "display_name": "Python 3 (ipykernel)",
   "language": "python",
   "name": "python3"
  },
  "language_info": {
   "codemirror_mode": {
    "name": "ipython",
    "version": 3
   },
   "file_extension": ".py",
   "mimetype": "text/x-python",
   "name": "python",
   "nbconvert_exporter": "python",
   "pygments_lexer": "ipython3",
   "version": "3.10.9"
  }
 },
 "nbformat": 4,
 "nbformat_minor": 5
}
